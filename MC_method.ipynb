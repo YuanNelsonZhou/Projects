{
  "nbformat": 4,
  "nbformat_minor": 0,
  "metadata": {
    "colab": {
      "provenance": [],
      "authorship_tag": "ABX9TyOMudjkvlkfJ4HEwnwDoUIH",
      "include_colab_link": true
    },
    "kernelspec": {
      "name": "python3",
      "display_name": "Python 3"
    },
    "language_info": {
      "name": "python"
    }
  },
  "cells": [
    {
      "cell_type": "markdown",
      "metadata": {
        "id": "view-in-github",
        "colab_type": "text"
      },
      "source": [
        "<a href=\"https://colab.research.google.com/github/YuanNelsonZhou/Projects-and-Papers/blob/main/MC_method.ipynb\" target=\"_parent\"><img src=\"https://colab.research.google.com/assets/colab-badge.svg\" alt=\"Open In Colab\"/></a>"
      ]
    },
    {
      "cell_type": "code",
      "execution_count": null,
      "metadata": {
        "colab": {
          "base_uri": "https://localhost:8080/"
        },
        "id": "c4AO9GwXnYDN",
        "outputId": "7f25335e-3fbd-457e-d290-a3c58f3ec095"
      },
      "outputs": [
        {
          "output_type": "stream",
          "name": "stdout",
          "text": [
            "303\n",
            "Estimated average number of 'true' events with overlap in the 300 ns window: 0.0\n"
          ]
        }
      ],
      "source": [
        "import random\n",
        "\n",
        "# Function to generate random event times within one second\n",
        "def generate_random_event_times(rate):\n",
        "    num_events = int(rate)  # Number of events in one second\n",
        "    event_times = [random.random() for _ in range(num_events)]\n",
        "    return event_times\n",
        "\n",
        "# Function to check if any CMOS event is within the 300 ns window\n",
        "def check_overlap(cmos_times, delta_t):\n",
        "    for cmos_time in cmos_times:\n",
        "        if cmos_time < delta_t:\n",
        "            return True\n",
        "    return False\n",
        "\n",
        "def main():\n",
        "    # Parameters\n",
        "    t = 3.29959662e-3 # Period of data collection\n",
        "    delta_t = 300e-9    # Time window in seconds (300 ns)\n",
        "    period = t + delta_t # Period of a data collection cycle\n",
        "    numPeriods = int(1/period)\n",
        "    print(numPeriods)\n",
        "    lambda_true = 303.0673489  # True event rate per second\n",
        "    lambda_cmos = [109.1042456, 60.91653713, 70.91775964, 54.5521228]  # CMOS rates per second\n",
        "    M = 10000          # Number of Monte Carlo simulations\n",
        "\n",
        "\n",
        "    #defining start of window\n",
        "    window_start=[]\n",
        "    start=0\n",
        "    for _ in range (numPeriods):\n",
        "        window_start.append(start)\n",
        "        start += period\n",
        "\n",
        "    #print(window_start)\n",
        "\n",
        "\n",
        "    #defining end of window\n",
        "    window_end=[]\n",
        "\n",
        "    for _ in range (numPeriods):\n",
        "        window_end.append(delta_t)\n",
        "        delta_t += period\n",
        "\n",
        "    #print(window_end)\n",
        "\n",
        "    # Monte Carlo simulation\n",
        "    overlap_counts = 0\n",
        "    for _ in range(M):\n",
        "        # Generate random event times for \"true\" events\n",
        "        true_event_times = generate_random_event_times(lambda_true)\n",
        "\n",
        "        # Generate random event times for each CMOS rate\n",
        "        cmos_event_times = [generate_random_event_times(rate) for rate in lambda_cmos]\n",
        "\n",
        "        ###print(cmos_event_times)\n",
        "        # Check for overlap within the time window for each \"true\" event\n",
        "        for true_time in true_event_times:\n",
        "            if true_time < delta_t:  # Only consider true events within 300 ns window\n",
        "                # Check if the true event overlaps with at least one CMOS event\n",
        "                for cmos_times in cmos_event_times:\n",
        "                    for i in window_start:\n",
        "                        for cmos_time in cmos_times:\n",
        "                            if cmos_time > window_start[i] and cmos_time < window_end[i]:\n",
        "\n",
        "                                overlap_counts += 1\n",
        "                                break  # No need to check other CMOS event times if overlap found\n",
        "                            break              # Assuming at least one overlap is sufficient\n",
        "                        break\n",
        "                    break\n",
        "    # Calculate the average number of overlaps\n",
        "    average_overlaps = overlap_counts / M\n",
        "\n",
        "    # Output the result\n",
        "    print(\"Estimated average number of 'true' events with overlap in the 300 ns window:\", average_overlaps)\n",
        "\n",
        "if __name__ == \"__main__\":\n",
        "    main()"
      ]
    },
    {
      "cell_type": "code",
      "source": [],
      "metadata": {
        "id": "qvZ2G3hDoD-_"
      },
      "execution_count": null,
      "outputs": []
    }
  ]
}